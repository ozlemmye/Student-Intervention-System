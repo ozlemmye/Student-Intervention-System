{
 "metadata": {
  "kernelspec": {
   "display_name": "Python 2",
   "language": "python",
   "name": "python2"
  },
  "language_info": {
   "codemirror_mode": {
    "name": "ipython",
    "version": 2
   },
   "file_extension": ".py",
   "mimetype": "text/x-python",
   "name": "python",
   "nbconvert_exporter": "python",
   "pygments_lexer": "ipython2",
   "version": "2.7.10"
  },
  "name": "",
  "signature": "sha256:2b83d0eedd351d14cf498090789ca7b21f38763be52645479ff911bc87cc56c6"
 },
 "nbformat": 3,
 "nbformat_minor": 0,
 "worksheets": [
  {
   "cells": [
    {
     "cell_type": "markdown",
     "metadata": {},
     "source": [
      "# Project 2: Supervised Learning\n",
      "### Building a Student Intervention System"
     ]
    },
    {
     "cell_type": "markdown",
     "metadata": {},
     "source": [
      "## 1. Classification vs Regression\n",
      "\n",
      "Your goal is to identify students who might need early intervention - which type of supervised machine learning problem is this, classification or regression? Why?"
     ]
    },
    {
     "cell_type": "markdown",
     "metadata": {},
     "source": [
      "## 2. Exploring the Data\n",
      "\n",
      "Let's go ahead and read in the student dataset first.\n",
      "\n",
      "_To execute a code cell, click inside it and press **Shift+Enter**._"
     ]
    },
    {
     "cell_type": "code",
     "collapsed": false,
     "input": [
      "# Import libraries\n",
      "import numpy as np\n",
      "import pandas as pd\n",
      "import time\n",
      "import os\n",
      "import matplotlib.pyplot as plt\n",
      "from matplotlib.colors import ListedColormap\n",
      "from os import system\n",
      "from pandas import DataFrame, Series\n",
      "from sklearn.preprocessing import label_binarize\n",
      "from sklearn.cross_validation import ShuffleSplit, train_test_split\n",
      "from sklearn import tree, grid_search\n",
      "from sklearn.tree import DecisionTreeClassifier\n",
      "from sklearn.naive_bayes import GaussianNB\n",
      "from sklearn.ensemble import RandomForestClassifier\n",
      "from sklearn.ensemble import BaggingClassifier\n",
      "from sklearn.metrics import f1_score, accuracy_score, precision_score, recall_score"
     ],
     "language": "python",
     "metadata": {},
     "outputs": [],
     "prompt_number": 1
    },
    {
     "cell_type": "code",
     "collapsed": false,
     "input": [
      "# Read student data\n",
      "student_data = pd.read_csv(\"student-data.csv\")\n",
      "print \"Student data read successfully!\"\n",
      "# Note: The last column 'passed' is the target/label, all other are feature columns"
     ],
     "language": "python",
     "metadata": {},
     "outputs": [
      {
       "output_type": "stream",
       "stream": "stdout",
       "text": [
        "Student data read successfully!\n"
       ]
      }
     ],
     "prompt_number": 2
    },
    {
     "cell_type": "markdown",
     "metadata": {},
     "source": [
      "Now, can you find out the following facts about the dataset?\n",
      "- Total number of students\n",
      "- Number of students who passed\n",
      "- Number of students who failed\n",
      "- Graduation rate of the class (%)\n",
      "- Number of features\n",
      "\n",
      "_Use the code block below to compute these values. Instructions/steps are marked using **TODO**s._"
     ]
    },
    {
     "cell_type": "code",
     "collapsed": false,
     "input": [
      "# TODO: Compute desired values - replace each '?' with an appropriate expression/function call\n",
      "n_students = student_data.shape[0]\n",
      "n_features = student_data.shape[1] -1\n",
      "n_passed = len (student_data['passed'][student_data [ 'passed' ] == 'yes' ])\n",
      "n_failed = len (student_data['passed'][student_data [ 'passed' ] == 'no' ])\n",
      "grad_rate = float(n_passed) / float(n_passed + n_failed)\n",
      "print \"Total number of students: {}\".format(n_students)\n",
      "print \"Number of students who passed: {}\".format(n_passed)\n",
      "print \"Number of students who failed: {}\".format(n_failed)\n",
      "print \"Number of features: {}\".format(n_features)\n",
      "print \"Graduation rate of the class: {:.2f}%\".format(grad_rate*100)"
     ],
     "language": "python",
     "metadata": {},
     "outputs": [
      {
       "output_type": "stream",
       "stream": "stdout",
       "text": [
        "Total number of students: 395\n",
        "Number of students who passed: 265\n",
        "Number of students who failed: 130\n",
        "Number of features: 30\n",
        "Graduation rate of the class: 67.09%\n"
       ]
      }
     ],
     "prompt_number": 3
    },
    {
     "cell_type": "markdown",
     "metadata": {},
     "source": [
      "## 3. Preparing the Data\n",
      "In this section, we will prepare the data for modeling, training and testing.\n",
      "\n",
      "### Identify feature and target columns\n",
      "It is often the case that the data you obtain contains non-numeric features. This can be a problem, as most machine learning algorithms expect numeric data to perform computations with.\n",
      "\n",
      "Let's first separate our data into feature and target columns, and see if any features are non-numeric.<br/>\n",
      "**Note**: For this dataset, the last column (`'passed'`) is the target or label we are trying to predict."
     ]
    },
    {
     "cell_type": "code",
     "collapsed": false,
     "input": [
      "# Extract feature (X) and target (y) columns\n",
      "feature_cols = list(student_data.columns[:-1])  # all columns but last are features\n",
      "target_col = student_data.columns[-1]  # last column is the target/label\n",
      "print \"Feature column(s):-\\n{}\".format(feature_cols)\n",
      "print \"Target column: {}\".format(target_col)\n",
      "\n",
      "X_all = student_data[feature_cols]  # feature values for all students\n",
      "y_all = student_data[target_col]  # corresponding targets/labels\n",
      "print \"\\nFeature values:-\"\n",
      "print X_all.head()  # print the first 5 rows\n",
      "print y_all.head()"
     ],
     "language": "python",
     "metadata": {},
     "outputs": [
      {
       "output_type": "stream",
       "stream": "stdout",
       "text": [
        "Feature column(s):-\n",
        "['school', 'sex', 'age', 'address', 'famsize', 'Pstatus', 'Medu', 'Fedu', 'Mjob', 'Fjob', 'reason', 'guardian', 'traveltime', 'studytime', 'failures', 'schoolsup', 'famsup', 'paid', 'activities', 'nursery', 'higher', 'internet', 'romantic', 'famrel', 'freetime', 'goout', 'Dalc', 'Walc', 'health', 'absences']\n",
        "Target column: passed\n",
        "\n",
        "Feature values:-\n",
        "  school sex  age address famsize Pstatus  Medu  Fedu     Mjob      Fjob  \\\n",
        "0     GP   F   18       U     GT3       A     4     4  at_home   teacher   \n",
        "1     GP   F   17       U     GT3       T     1     1  at_home     other   \n",
        "2     GP   F   15       U     LE3       T     1     1  at_home     other   \n",
        "3     GP   F   15       U     GT3       T     4     2   health  services   \n",
        "4     GP   F   16       U     GT3       T     3     3    other     other   \n",
        "\n",
        "    ...    higher internet  romantic  famrel  freetime goout Dalc Walc health  \\\n",
        "0   ...       yes       no        no       4         3     4    1    1      3   \n",
        "1   ...       yes      yes        no       5         3     3    1    1      3   \n",
        "2   ...       yes      yes        no       4         3     2    2    3      3   \n",
        "3   ...       yes      yes       yes       3         2     2    1    1      5   \n",
        "4   ...       yes       no        no       4         3     2    1    2      5   \n",
        "\n",
        "  absences  \n",
        "0        6  \n",
        "1        4  \n",
        "2       10  \n",
        "3        2  \n",
        "4        4  \n",
        "\n",
        "[5 rows x 30 columns]\n",
        "0     no\n",
        "1     no\n",
        "2    yes\n",
        "3    yes\n",
        "4    yes\n",
        "Name: passed, dtype: object\n"
       ]
      }
     ],
     "prompt_number": 4
    },
    {
     "cell_type": "markdown",
     "metadata": {},
     "source": [
      "### Preprocess feature columns\n",
      "\n",
      "As you can see, there are several non-numeric columns that need to be converted! Many of them are simply `yes`/`no`, e.g. `internet`. These can be reasonably converted into `1`/`0` (binary) values.\n",
      "\n",
      "Other columns, like `Mjob` and `Fjob`, have more than two values, and are known as _categorical variables_. The recommended way to handle such a column is to create as many columns as possible values (e.g. `Fjob_teacher`, `Fjob_other`, `Fjob_services`, etc.), and assign a `1` to one of them and `0` to all others.\n",
      "\n",
      "These generated columns are sometimes called _dummy variables_, and we will use the [`pandas.get_dummies()`](http://pandas.pydata.org/pandas-docs/stable/generated/pandas.get_dummies.html?highlight=get_dummies#pandas.get_dummies) function to perform this transformation."
     ]
    },
    {
     "cell_type": "code",
     "collapsed": false,
     "input": [
      "# Preprocess feature columns\n",
      "def preprocess_features(X):\n",
      "    outX = pd.DataFrame(index=X.index)  # output dataframe, initially empty\n",
      "\n",
      "    # Check each column\n",
      "    for col, col_data in X.iteritems():\n",
      "        # If data type is non-numeric, try to replace all yes/no values with 1/0\n",
      "        if col_data.dtype == object:\n",
      "            col_data = col_data.replace(['yes', 'no'], [1, 0])\n",
      "        # Note: This should change the data type for yes/no columns to int\n",
      "\n",
      "        # If still non-numeric, convert to one or more dummy variables\n",
      "        if col_data.dtype == object:\n",
      "            col_data = pd.get_dummies(col_data, prefix=col)  # e.g. 'school' => 'school_GP', 'school_MS'\n",
      "\n",
      "        outX = outX.join(col_data)  # collect column(s) in output dataframe\n",
      "\n",
      "    return outX\n",
      "\n",
      "X_all = preprocess_features(X_all)\n",
      "print \"Processed feature columns ({}):-\\n{}\".format(len(X_all.columns), list(X_all.columns))"
     ],
     "language": "python",
     "metadata": {},
     "outputs": [
      {
       "output_type": "stream",
       "stream": "stdout",
       "text": [
        "Processed feature columns (48):-\n",
        "['school_GP', 'school_MS', 'sex_F', 'sex_M', 'age', 'address_R', 'address_U', 'famsize_GT3', 'famsize_LE3', 'Pstatus_A', 'Pstatus_T', 'Medu', 'Fedu', 'Mjob_at_home', 'Mjob_health', 'Mjob_other', 'Mjob_services', 'Mjob_teacher', 'Fjob_at_home', 'Fjob_health', 'Fjob_other', 'Fjob_services', 'Fjob_teacher', 'reason_course', 'reason_home', 'reason_other', 'reason_reputation', 'guardian_father', 'guardian_mother', 'guardian_other', 'traveltime', 'studytime', 'failures', 'schoolsup', 'famsup', 'paid', 'activities', 'nursery', 'higher', 'internet', 'romantic', 'famrel', 'freetime', 'goout', 'Dalc', 'Walc', 'health', 'absences']\n"
       ]
      }
     ],
     "prompt_number": 5
    },
    {
     "cell_type": "markdown",
     "metadata": {},
     "source": [
      "### Split data into training and test sets\n",
      "\n",
      "So far, we have converted all _categorical_ features into numeric values. In this next step, we split the data (both features and corresponding labels) into training and test sets."
     ]
    },
    {
     "cell_type": "code",
     "collapsed": false,
     "input": [
      "num_all = student_data.shape[0]  # same as len(student_data)\n",
      "num_train = 300  # about 75% of the data\n",
      "num_test = num_all - num_train\n",
      "\n",
      "# y_all values are also converted into 1,0 and will be splitted along with X_all, y_all \n",
      "y = label_binarize(y_all, classes=['no', 'yes'])\n",
      "y_S = pd.Series(np.squeeze(y))\n",
      "a = []\n",
      "X_train, X_test, y_binarized_train, y_binarized_test = train_test_split(X_all, y_S, test_size=0.24, \n",
      "                                                                        random_state=0)\n",
      "X_train, X_test, y_train, y_test = train_test_split(X_all, y_all, test_size=0.24, random_state=0)\n",
      "print \"Training set: {} samples\".format(X_train.shape[0])\n",
      "print \"Test set: {} samples\".format(X_test.shape[0])\n",
      "\n",
      "num_all_S = pd.Series(np.arange(num_all))\n",
      "cm = plt.cm.RdBu\n",
      "cm_bright = ListedColormap(['#FF0000', '#0000FF'])\n",
      "freeTime = 2*np.random.random_sample(len(X_all['freetime']))-1\n",
      "a1=X_all['freetime'] + (freeTime/5.0)\n",
      "#b = np.random.rand(len(X_all['activities']))\n",
      "activities = 2*np.random.random_sample(len(X_all['activities']))-1\n",
      "a2 = X_all['activities'] + (activities/10.0)\n",
      "plt.scatter(a1, a2, c=y, marker='s', cmap=cm_bright, alpha= 1)\n",
      "#plt.scatter(num_all_S, X_all['absences'], c=y, marker='s', cmap=cm_bright, alpha= 1)\n",
      "plt.legend()\n",
      "plt.xlabel(\"freetime\")\n",
      "plt.ylabel(\"activities\")\n",
      "plt.show()"
     ],
     "language": "python",
     "metadata": {},
     "outputs": [
      {
       "output_type": "stream",
       "stream": "stdout",
       "text": [
        "Training set: 300 samples\n",
        "Test set: 95 samples\n"
       ]
      },
      {
       "metadata": {},
       "output_type": "display_data",
       "png": "[encoded data removed]",
       "text": [
        "<matplotlib.figure.Figure at 0x9f37d30>"
       ]
      }
     ],
     "prompt_number": 6
    },
    {
     "cell_type": "markdown",
     "metadata": {},
     "source": [
      "## 4. Training and Evaluating Models\n",
      "Choose 3 supervised learning models that are available in scikit-learn, and appropriate for this problem. For each model:\n",
      "\n",
      "- What are the general applications of this model? What are its strengths and weaknesses?\n",
      "- Given what you know about the data so far, why did you choose this model to apply?\n",
      "- Fit this model to the training data, try to predict labels (for both training and test sets), and measure the F<sub>1</sub> score. Repeat this process with different training set sizes (100, 200, 300), keeping test set constant.\n",
      "\n",
      "Produce a table showing training time, prediction time, F<sub>1</sub> score on training set and F<sub>1</sub> score on test set, for each training set size.\n",
      "\n",
      "Note: You need to produce 3 such tables - one for each model."
     ]
    },
    {
     "cell_type": "code",
     "collapsed": false,
     "input": [
      "# Train a model\n",
      "def train_classifier(clf, X_train, y_train):\n",
      "    #print \"Training {}...\".format(clf.__class__.__name__)\n",
      "    start = time.time()\n",
      "    clf.fit(X_train, y_train)\n",
      "    end = time.time()\n",
      "    #print \"Done!\\nTraining time (secs): {:.3f}\".format(end - start)\n",
      "    a.append(end - start) #training time\n",
      "\n",
      "clf_DecisionTree = tree.DecisionTreeClassifier()\n",
      "clf_RandomForest = RandomForestClassifier() \n",
      "clf_BaggingClassifier = BaggingClassifier(GaussianNB())\n",
      "\n",
      "#Fit model to training data\n",
      "train_classifier(clf_DecisionTree, X_train, y_train)  # note: using entire training set here\n",
      "\n",
      "\n",
      "#For the Decision Tree figure, I have used the code below.\n",
      "#graph = open('C:/Users/ozy/MachineLearningNanoDegree/P2-StudentIntervention/student_intervention/dt.dot', 'w')\n",
      "#ree.export_graphviz(clf_DecisionTree, out_file=graph, feature_names=X_all.columns,  \n",
      "#                         class_names= 'passed',  \n",
      "#                         filled=True, rounded=True)\n",
      "#graph.close()\n",
      "#system('dot -Tpng C:/Users/ozy/MachineLearningNanoDegree/P2-StudentIntervention/student_intervention/dt.dot -o C:/Users/ozy/MachineLearningNanoDegree/P2-StudentIntervention/student_intervention/dt.png')"
     ],
     "language": "python",
     "metadata": {},
     "outputs": [],
     "prompt_number": 7
    },
    {
     "cell_type": "code",
     "collapsed": false,
     "input": [
      "# Predict on training set and compute F1 score\n",
      "a = []\n",
      "train_sizes = [100, 200, 300] #while keeping test set constant, the training size is iterated.\n",
      "for train_size in train_sizes:\n",
      "    X_train_partial = X_train[:train_size]  \n",
      "    y_train_partial = y_train[:train_size]  \n",
      "    def predict_labels(clf, features, target):\n",
      "        #print '-----------'\n",
      "        #print \"Predicting labels using {}...\".format(clf.__class__.__name__)\n",
      "        start = time.time()\n",
      "        y_pred = clf.predict(features)\n",
      "        end = time.time()\n",
      "        #print \"Done!\\nPrediction time (secs): {:.3f}\".format(end - start)\n",
      "        a.append(end - start) # predicting time but, could be for training and testing\n",
      "        return f1_score(target.values, y_pred, pos_label='yes') \n",
      "    \n",
      "    #train_f1_score = predict_labels(clf, X_train, y_train)\n",
      "    #print \"F1 score for training set: {}\".format(train_f1_score)\n",
      "    # Predict on test data\n",
      "    #print \"F1 score for test set: {}\".format(predict_labels(clf, X_test, y_test))\n",
      "    \n",
      "    # Train and predict using different training set sizes\n",
      "    def train_predict(clf, X_train, y_train, X_test, y_test):\n",
      "        #print \"------------------------------------------\"\n",
      "        #print \"Training set size: {}\".format(len(X_train))\n",
      "        train_classifier(clf, X_train, y_train)\n",
      "        F1_score_training = predict_labels(clf, X_train, y_train)\n",
      "        #print \"F1 score for training set: {}\".format(F1_score_training)\n",
      "        a.append(F1_score_training)\n",
      "        F1_score_testing = predict_labels(clf, X_test, y_test)\n",
      "        #print \"F1 score for test set: {}\".format(F1_score_testing)\n",
      "        a.append(F1_score_testing)\n",
      "       \n",
      "    classifiers = [clf_DecisionTree, clf_RandomForest, clf_BaggingClassifier]\n",
      "    for clf in classifiers:\n",
      "        print train_predict(clf, X_train_partial, y_train_partial, X_test, y_test)\n",
      "\n",
      "b = np.array(a).reshape((3,15))\n",
      "df_a = DataFrame(b, index=['100', '200', '300'])\n",
      "print '\\n Table 1 for DecisionTreeClassifier'\n",
      "df_DT = df_a.loc[:,0:4]\n",
      "df_DT.columns = ['Training time','Predicting Training T', 'F1 for training', 'Predicting Time','F1 for test']\n",
      "df_DT = df_DT[['Training time', 'Predicting Time','F1 for training', 'F1 for test']]\n",
      "print df_DT\n",
      "print '\\n Table 2 for RandomForestClassifier.\\n'\n",
      "df_RF = df_a.loc[:,5:9]\n",
      "df_RF.columns = ['Training time','Predicting Training T', 'F1 for training', 'Predicting Time','F1 for test']\n",
      "df_RF = df_RF[['Training time', 'Predicting Time','F1 for training', 'F1 for test']]\n",
      "print df_RF\n",
      "print '\\n Table 3 for BaggingClassifier.\\n'\n",
      "df_BG = df_a.loc[:,10:14]\n",
      "df_BG.columns = ['Training time','Predicting Training T', 'F1 for training', 'Predicting Time','F1 for test']\n",
      "df_BG = df_BG[['Training time', 'Predicting Time','F1 for training', 'F1 for test']]\n",
      "print df_BG\n"
     ],
     "language": "python",
     "metadata": {},
     "outputs": [
      {
       "output_type": "stream",
       "stream": "stdout",
       "text": [
        "None\n",
        "None"
       ]
      },
      {
       "output_type": "stream",
       "stream": "stdout",
       "text": [
        "\n",
        "None\n",
        "None\n",
        "None"
       ]
      },
      {
       "output_type": "stream",
       "stream": "stdout",
       "text": [
        "\n",
        "None\n",
        "None\n",
        "None"
       ]
      },
      {
       "output_type": "stream",
       "stream": "stdout",
       "text": [
        "\n",
        "None\n",
        "\n",
        " Table 1 for DecisionTreeClassifier\n",
        "     Training time  Predicting Time  F1 for training  F1 for test\n",
        "100          0.002                0                1     0.711864\n",
        "200          0.003                0                1     0.708661\n",
        "300          0.004                0                1     0.717949"
       ]
      },
      {
       "output_type": "stream",
       "stream": "stdout",
       "text": [
        "\n",
        "\n",
        " Table 2 for RandomForestClassifier.\n",
        "\n",
        "     Training time  Predicting Time  F1 for training  F1 for test\n",
        "100          0.059            0.002         0.984615     0.698413\n",
        "200          0.035            0.001         0.996226     0.719424\n",
        "300          0.044            0.002         0.992736     0.757576\n",
        "\n",
        " Table 3 for BaggingClassifier.\n",
        "\n",
        "     Training time  Predicting Time  F1 for training  F1 for test\n",
        "100          0.022            0.005         0.870229     0.753846\n",
        "200          0.024            0.005         0.785714     0.703125\n",
        "300          0.023            0.007         0.769620     0.770370\n"
       ]
      }
     ],
     "prompt_number": 8
    },
    {
     "cell_type": "markdown",
     "metadata": {},
     "source": [
      "## 5. Choosing the Best Model\n",
      "\n",
      "- Based on the experiments you performed earlier, in 1-2 paragraphs explain to the board of supervisors what single model you chose as the best model. Which model is generally the most appropriate based on the available data, limited resources, cost, and performance?\n",
      "- In 1-2 paragraphs explain to the board of supervisors in layman's terms how the final model chosen is supposed to work (for example if you chose a Decision Tree or Support Vector Machine, how does it make a prediction).\n",
      "- Fine-tune the model. Use Gridsearch with at least one important parameter tuned and with at least 3 settings. Use the entire training set for this.\n",
      "- What is the model's final F<sub>1</sub> score?"
     ]
    },
    {
     "cell_type": "code",
     "collapsed": true,
     "input": [
      "# TODO: Fine-tune your model and report the best F1 score\n",
      "parameters = {'criterion' : ('gini','entropy'),'max_depth':(1,2,3,4,5,6,7,8,9,10), \n",
      "              'min_samples_split' : (1,2,3,5,10,15,20)} #'class_weight' : ({1: 5}, {1: 10})\n",
      "\n",
      "start = time.time()\n",
      "gridSearch = grid_search.GridSearchCV(clf_DecisionTree, parameters, \n",
      "        scoring='f1', fit_params=None, n_jobs=1, iid=True, refit=True, cv=None, \n",
      "        verbose=0, pre_dispatch='2*n_jobs', error_score='raise')\n",
      "\n",
      "gridSearch.fit(X_train, y_binarized_train) \n",
      "end = time.time()\n",
      "print \"Tuning parameters time (secs): {:.3f}\".format(end - start)\n",
      "\n",
      "print(\"Best parameters set found on whole dataset: \", gridSearch.best_params_)\n",
      "print(\"Best F1 score: \", gridSearch.best_score_)\n",
      "\n",
      "predicted_y = gridSearch.predict(X_test)\n",
      "print ('Accuracy Score: ', accuracy_score(y_binarized_test, predicted_y))\n",
      "print ('Precision Score: ', precision_score(y_binarized_test, predicted_y))\n",
      "print ('Recall Score: ', recall_score(y_binarized_test, predicted_y))\n",
      "n=0\n",
      "for value in predicted_y:\n",
      "    if value == 0:\n",
      "        n = n+1\n",
      "print ('The number of students who need intervention: ', n)\n",
      "#print gridSearch.best_estimator_.feature_importances_\n"
     ],
     "language": "python",
     "metadata": {},
     "outputs": [
      {
       "output_type": "stream",
       "stream": "stdout",
       "text": [
        "Tuning parameters time (secs): 3.813\n",
        "('Best parameters set found on whole dataset: ', {'min_samples_split': 1, 'criterion': 'gini', 'max_depth': 2})\n",
        "('Best F1 score: ', 0.82673250771634343)\n",
        "('Accuracy Score: ', 0.69473684210526321)\n",
        "('Precision Score: ', 0.69736842105263153)\n",
        "('Recall Score: ', 0.89830508474576276)\n",
        "('The number of students who need intervention: ', 19)\n"
       ]
      }
     ],
     "prompt_number": 9
    },
    {
     "cell_type": "code",
     "collapsed": false,
     "input": [],
     "language": "python",
     "metadata": {},
     "outputs": [],
     "prompt_number": 9
    }
   ],
   "metadata": {}
  }
 ]
}